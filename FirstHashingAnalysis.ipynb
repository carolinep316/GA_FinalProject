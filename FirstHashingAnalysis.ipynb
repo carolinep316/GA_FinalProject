{
 "cells": [
  {
   "cell_type": "code",
   "execution_count": 2,
   "metadata": {},
   "outputs": [
    {
     "name": "stdout",
     "output_type": "stream",
     "text": [
      "scanpy==1.4.4.post1 anndata==0.6.22.post1 umap==0.3.10 numpy==1.17.2 scipy==1.3.1 pandas==0.25.1 scikit-learn==0.21.3 statsmodels==0.10.1\n"
     ]
    }
   ],
   "source": [
    "import numpy as np\n",
    "import anndata\n",
    "import pandas as pd\n",
    "import scanpy as sc\n",
    "import matplotlib.pyplot as plt\n",
    "\n",
    "sc.settings.verbosity=3\n",
    "#verbosity: errors (0), warnings(1), info(2), hints(3)\n",
    "sc.logging.print_versions()"
   ]
  },
  {
   "cell_type": "code",
   "execution_count": 5,
   "metadata": {},
   "outputs": [
    {
     "data": {
      "text/plain": [
       "AnnData object with n_obs × n_vars = 70351 × 33538 \n",
       "    obs: 'Channel', 'n_genes', 'n_counts', 'demux_type', 'assignment'\n",
       "    var: 'gene_ids', 'robust'\n",
       "    uns: 'background_probs', 'genome'\n",
       "    obsm: 'raw_probs'"
      ]
     },
     "execution_count": 5,
     "metadata": {},
     "output_type": "execute_result"
    }
   ],
   "source": [
    "adata=anndata.read_h5ad('/Users/caroline/Desktop/Hashed_analysis/Hashed_secondary_output_Hashed_Hashed_demux.h5ad')\n",
    "adata"
   ]
  },
  {
   "cell_type": "code",
   "execution_count": 6,
   "metadata": {},
   "outputs": [
    {
     "data": {
      "text/html": [
       "<div>\n",
       "<style scoped>\n",
       "    .dataframe tbody tr th:only-of-type {\n",
       "        vertical-align: middle;\n",
       "    }\n",
       "\n",
       "    .dataframe tbody tr th {\n",
       "        vertical-align: top;\n",
       "    }\n",
       "\n",
       "    .dataframe thead th {\n",
       "        text-align: right;\n",
       "    }\n",
       "</style>\n",
       "<table border=\"1\" class=\"dataframe\">\n",
       "  <thead>\n",
       "    <tr style=\"text-align: right;\">\n",
       "      <th></th>\n",
       "      <th>Channel</th>\n",
       "      <th>n_genes</th>\n",
       "      <th>n_counts</th>\n",
       "      <th>demux_type</th>\n",
       "      <th>assignment</th>\n",
       "    </tr>\n",
       "    <tr>\n",
       "      <th>index</th>\n",
       "      <th></th>\n",
       "      <th></th>\n",
       "      <th></th>\n",
       "      <th></th>\n",
       "      <th></th>\n",
       "    </tr>\n",
       "  </thead>\n",
       "  <tbody>\n",
       "    <tr>\n",
       "      <td>AAACCCAAGACAACTA</td>\n",
       "      <td></td>\n",
       "      <td>368</td>\n",
       "      <td>536.0</td>\n",
       "      <td>doublet</td>\n",
       "      <td>A375_15,A375_13,HEK_10</td>\n",
       "    </tr>\n",
       "    <tr>\n",
       "      <td>AAACCCAAGACGGTTG</td>\n",
       "      <td></td>\n",
       "      <td>347</td>\n",
       "      <td>491.0</td>\n",
       "      <td>doublet</td>\n",
       "      <td>HEK_8,A375_15</td>\n",
       "    </tr>\n",
       "    <tr>\n",
       "      <td>AAACCCAAGAGAATCT</td>\n",
       "      <td></td>\n",
       "      <td>317</td>\n",
       "      <td>472.0</td>\n",
       "      <td>unknown</td>\n",
       "      <td></td>\n",
       "    </tr>\n",
       "    <tr>\n",
       "      <td>AAACCCAAGAGCTTTC</td>\n",
       "      <td></td>\n",
       "      <td>352</td>\n",
       "      <td>509.0</td>\n",
       "      <td>unknown</td>\n",
       "      <td></td>\n",
       "    </tr>\n",
       "    <tr>\n",
       "      <td>AAACCCAAGATACAGT</td>\n",
       "      <td></td>\n",
       "      <td>369</td>\n",
       "      <td>534.0</td>\n",
       "      <td>unknown</td>\n",
       "      <td></td>\n",
       "    </tr>\n",
       "    <tr>\n",
       "      <td>...</td>\n",
       "      <td>...</td>\n",
       "      <td>...</td>\n",
       "      <td>...</td>\n",
       "      <td>...</td>\n",
       "      <td>...</td>\n",
       "    </tr>\n",
       "    <tr>\n",
       "      <td>TTTGTTGTCGTCGACG</td>\n",
       "      <td></td>\n",
       "      <td>257</td>\n",
       "      <td>325.0</td>\n",
       "      <td>unknown</td>\n",
       "      <td></td>\n",
       "    </tr>\n",
       "    <tr>\n",
       "      <td>TTTGTTGTCTCCAATT</td>\n",
       "      <td></td>\n",
       "      <td>285</td>\n",
       "      <td>367.0</td>\n",
       "      <td>unknown</td>\n",
       "      <td></td>\n",
       "    </tr>\n",
       "    <tr>\n",
       "      <td>TTTGTTGTCTCGAGTA</td>\n",
       "      <td></td>\n",
       "      <td>260</td>\n",
       "      <td>330.0</td>\n",
       "      <td>singlet</td>\n",
       "      <td>HEK_10</td>\n",
       "    </tr>\n",
       "    <tr>\n",
       "      <td>TTTGTTGTCTTAATCC</td>\n",
       "      <td></td>\n",
       "      <td>276</td>\n",
       "      <td>351.0</td>\n",
       "      <td>unknown</td>\n",
       "      <td></td>\n",
       "    </tr>\n",
       "    <tr>\n",
       "      <td>TTTGTTGTCTTCGACC</td>\n",
       "      <td></td>\n",
       "      <td>253</td>\n",
       "      <td>321.0</td>\n",
       "      <td>doublet</td>\n",
       "      <td>HEK_8,A375_15</td>\n",
       "    </tr>\n",
       "  </tbody>\n",
       "</table>\n",
       "<p>70351 rows × 5 columns</p>\n",
       "</div>"
      ],
      "text/plain": [
       "                 Channel  n_genes  n_counts demux_type              assignment\n",
       "index                                                                         \n",
       "AAACCCAAGACAACTA              368     536.0    doublet  A375_15,A375_13,HEK_10\n",
       "AAACCCAAGACGGTTG              347     491.0    doublet           HEK_8,A375_15\n",
       "AAACCCAAGAGAATCT              317     472.0    unknown                        \n",
       "AAACCCAAGAGCTTTC              352     509.0    unknown                        \n",
       "AAACCCAAGATACAGT              369     534.0    unknown                        \n",
       "...                  ...      ...       ...        ...                     ...\n",
       "TTTGTTGTCGTCGACG              257     325.0    unknown                        \n",
       "TTTGTTGTCTCCAATT              285     367.0    unknown                        \n",
       "TTTGTTGTCTCGAGTA              260     330.0    singlet                  HEK_10\n",
       "TTTGTTGTCTTAATCC              276     351.0    unknown                        \n",
       "TTTGTTGTCTTCGACC              253     321.0    doublet           HEK_8,A375_15\n",
       "\n",
       "[70351 rows x 5 columns]"
      ]
     },
     "execution_count": 6,
     "metadata": {},
     "output_type": "execute_result"
    }
   ],
   "source": [
    "samp=adata.obs\n",
    "samp"
   ]
  },
  {
   "cell_type": "code",
   "execution_count": 13,
   "metadata": {},
   "outputs": [
    {
     "data": {
      "text/plain": [
       "                   31871\n",
       "HEK_8               5818\n",
       "HEK_2               3739\n",
       "HEK_12              3639\n",
       "HEK_10              3119\n",
       "A375_14             2996\n",
       "A375_13             2272\n",
       "A375_15             1860\n",
       "A375_9              1474\n",
       "HEK_8,A375_13        719\n",
       "HEK_8,HEK_10         607\n",
       "HEK_8,A375_14        563\n",
       "HEK_8,HEK_12         505\n",
       "A375_14,HEK_8        460\n",
       "HEK_8,A375_15        458\n",
       "HEK_10,HEK_8         445\n",
       "HEK_12,HEK_8         376\n",
       "A375_13,HEK_8        301\n",
       "HEK_10,A375_13       264\n",
       "HEK_12,A375_13       263\n",
       "HEK_2,HEK_8          236\n",
       "A375_14,A375_13      230\n",
       "HEK_8,A375_9         225\n",
       "A375_15,HEK_8        223\n",
       "HEK_10,HEK_12        220\n",
       "Name: assignment, dtype: int64"
      ]
     },
     "execution_count": 13,
     "metadata": {},
     "output_type": "execute_result"
    }
   ],
   "source": [
    "samp.assignment.value_counts().head(25)"
   ]
  },
  {
   "cell_type": "code",
   "execution_count": 16,
   "metadata": {},
   "outputs": [
    {
     "data": {
      "text/plain": [
       "View of AnnData object with n_obs × n_vars = 24917 × 33538 \n",
       "    obs: 'Channel', 'n_genes', 'n_counts', 'demux_type', 'assignment'\n",
       "    var: 'gene_ids', 'robust'\n",
       "    uns: 'background_probs', 'genome'\n",
       "    obsm: 'raw_probs'"
      ]
     },
     "execution_count": 16,
     "metadata": {},
     "output_type": "execute_result"
    }
   ],
   "source": [
    "adata=adata[adata.obs['demux_type']=='singlet']\n",
    "adata"
   ]
  },
  {
   "cell_type": "code",
   "execution_count": null,
   "metadata": {},
   "outputs": [],
   "source": []
  }
 ],
 "metadata": {
  "kernelspec": {
   "display_name": "Python 3",
   "language": "python",
   "name": "python3"
  },
  "language_info": {
   "codemirror_mode": {
    "name": "ipython",
    "version": 3
   },
   "file_extension": ".py",
   "mimetype": "text/x-python",
   "name": "python",
   "nbconvert_exporter": "python",
   "pygments_lexer": "ipython3",
   "version": "3.7.5"
  }
 },
 "nbformat": 4,
 "nbformat_minor": 4
}
